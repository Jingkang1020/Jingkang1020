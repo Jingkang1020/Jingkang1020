{
  "cells": [
    {
      "cell_type": "markdown",
      "metadata": {
        "id": "view-in-github",
        "colab_type": "text"
      },
      "source": [
        "<a href=\"https://colab.research.google.com/github/Jingkang1020/Jingkang1020/blob/main/submission.ipynb\" target=\"_parent\"><img src=\"https://colab.research.google.com/assets/colab-badge.svg\" alt=\"Open In Colab\"/></a>"
      ]
    },
    {
      "cell_type": "markdown",
      "metadata": {
        "id": "Oly5a5_07gow"
      },
      "source": [
        "# Test assignment\n",
        "\n",
        "This is a test for the assignment pipeline. Below, you find two simple exercises. Try to finish them, commit your submission notebook, and check out the test result!\n",
        "\n",
        "To check out instructions on how to complete your assignment, you can check out the course info repo:\n",
        "https://github.com/MScNE-LSMLSDA/course-info"
      ]
    },
    {
      "cell_type": "markdown",
      "metadata": {
        "id": "Lzw-aMl-7go1"
      },
      "source": [
        "## Exercise 0\n",
        "Write a function `hello_world()` that takes no input and return the string `\"Hello, world!\"`"
      ]
    },
    {
      "cell_type": "code",
      "execution_count": null,
      "metadata": {
        "id": "Ix4pI-xc7go2"
      },
      "outputs": [],
      "source": [
        "def hello_world():\n",
        "    \"Hello, world!\""
      ]
    },
    {
      "cell_type": "markdown",
      "metadata": {
        "id": "UoFUgxcj7go4"
      },
      "source": [
        "## Exercise 1\n",
        "\n",
        "Write a function `factorial(n)` that takes as input an integer `n` and returns its factorial.\n",
        "\n",
        "Test cases:\n",
        "```\n",
        "In: 0\n",
        "Return: 1\n",
        "\n",
        "In: 4\n",
        "Return: 24\n",
        "\n",
        "In: 10\n",
        "Return 3628800\n",
        "```"
      ]
    },
    {
      "cell_type": "code",
      "execution_count": null,
      "metadata": {
        "id": "vv9XMAL17go5"
      },
      "outputs": [],
      "source": [
        "def factorial(n):\n",
        "  fact = 1;\n",
        "  for i in range(1,n+1):\n",
        "      fact = fact * i\n",
        "\n",
        "  print(fact)\n"
      ]
    },
    {
      "cell_type": "code",
      "source": [
        "factorial(10)"
      ],
      "metadata": {
        "id": "T0MS_qci-Zwu",
        "outputId": "c0aa11c3-352f-4fe3-f9a8-da54947ffd8f",
        "colab": {
          "base_uri": "https://localhost:8080/"
        }
      },
      "execution_count": null,
      "outputs": [
        {
          "output_type": "stream",
          "name": "stdout",
          "text": [
            "3628800\n"
          ]
        }
      ]
    },
    {
      "cell_type": "code",
      "source": [
        ""
      ],
      "metadata": {
        "id": "es5U-wMO-cGN"
      },
      "execution_count": null,
      "outputs": []
    }
  ],
  "metadata": {
    "colab": {
      "collapsed_sections": [],
      "name": "submission.ipynb",
      "provenance": [],
      "include_colab_link": true
    },
    "kernelspec": {
      "display_name": "Python 3",
      "language": "python",
      "name": "python3"
    },
    "language_info": {
      "codemirror_mode": {
        "name": "ipython",
        "version": 3
      },
      "file_extension": ".py",
      "mimetype": "text/x-python",
      "name": "python",
      "nbconvert_exporter": "python",
      "pygments_lexer": "ipython3",
      "version": "3.7.3"
    }
  },
  "nbformat": 4,
  "nbformat_minor": 0
}