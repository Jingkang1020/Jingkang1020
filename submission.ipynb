{
  "cells": [
    {
      "cell_type": "code",
      "execution_count": 1,
      "metadata": {
        "id": "Q1vb92WF2IFn",
        "outputId": "3a560c08-d421-4784-b6ff-4dc896ed5e70",
        "colab": {
          "base_uri": "https://localhost:8080/"
        }
      },
      "outputs": [
        {
          "output_type": "execute_result",
          "data": {
            "text/plain": [
              "<function __main__.hello_world>"
            ]
          },
          "metadata": {},
          "execution_count": 1
        }
      ],
      "source": [
        "# Code for Exercise 0\n",
        "def hello_world():\n",
        "    print(\"Hello, world!\")\n",
        "\n",
        "hello_world"
      ]
    },
    {
      "cell_type": "code",
      "execution_count": 2,
      "metadata": {
        "id": "IzQqh3Wq2IFq"
      },
      "outputs": [],
      "source": [
        "# Code for Exercise 1\n",
        "def factorial(n):\n",
        "  fact = 1;\n",
        "  for i in range(1,n+1):\n",
        "      fact = fact * i\n",
        "\n",
        "  print(fact)"
      ]
    },
    {
      "cell_type": "code",
      "source": [
        "factorial(0)\n",
        "factorial(4)\n",
        "factorial(10)"
      ],
      "metadata": {
        "id": "PISdf-D1AZSJ",
        "outputId": "2d5a39b4-c262-4095-a736-2296896d0595",
        "colab": {
          "base_uri": "https://localhost:8080/"
        }
      },
      "execution_count": 3,
      "outputs": [
        {
          "output_type": "stream",
          "name": "stdout",
          "text": [
            "1\n",
            "24\n",
            "3628800\n"
          ]
        }
      ]
    },
    {
      "cell_type": "code",
      "source": [
        ""
      ],
      "metadata": {
        "id": "uBtoM4a1Abgy"
      },
      "execution_count": null,
      "outputs": []
    }
  ],
  "metadata": {
    "kernelspec": {
      "display_name": "Python 3",
      "language": "python",
      "name": "python3"
    },
    "language_info": {
      "codemirror_mode": {
        "name": "ipython",
        "version": 3
      },
      "file_extension": ".py",
      "mimetype": "text/x-python",
      "name": "python",
      "nbconvert_exporter": "python",
      "pygments_lexer": "ipython3",
      "version": "3.7.3"
    },
    "colab": {
      "name": "submission.ipynb",
      "provenance": []
    }
  },
  "nbformat": 4,
  "nbformat_minor": 0
}